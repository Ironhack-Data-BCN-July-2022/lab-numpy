{
 "cells": [
  {
   "cell_type": "code",
   "execution_count": null,
   "id": "4761dcc0",
   "metadata": {},
   "outputs": [],
   "source": [
    "#1. Import the NUMPY package under the name np."
   ]
  },
  {
   "cell_type": "code",
   "execution_count": 8,
   "id": "2cded501",
   "metadata": {},
   "outputs": [],
   "source": [
    "import numpy as np\n"
   ]
  },
  {
   "cell_type": "code",
   "execution_count": 4,
   "id": "488e5747",
   "metadata": {},
   "outputs": [],
   "source": [
    "#2. Print the NUMPY version and the configuration."
   ]
  },
  {
   "cell_type": "code",
   "execution_count": 11,
   "id": "30643f86",
   "metadata": {},
   "outputs": [
    {
     "name": "stdout",
     "output_type": "stream",
     "text": [
      "1.23.1\n",
      "openblas64__info:\n",
      "    libraries = ['openblas64_', 'openblas64_']\n",
      "    library_dirs = ['/usr/local/lib']\n",
      "    language = c\n",
      "    define_macros = [('HAVE_CBLAS', None), ('BLAS_SYMBOL_SUFFIX', '64_'), ('HAVE_BLAS_ILP64', None)]\n",
      "    runtime_library_dirs = ['/usr/local/lib']\n",
      "blas_ilp64_opt_info:\n",
      "    libraries = ['openblas64_', 'openblas64_']\n",
      "    library_dirs = ['/usr/local/lib']\n",
      "    language = c\n",
      "    define_macros = [('HAVE_CBLAS', None), ('BLAS_SYMBOL_SUFFIX', '64_'), ('HAVE_BLAS_ILP64', None)]\n",
      "    runtime_library_dirs = ['/usr/local/lib']\n",
      "openblas64__lapack_info:\n",
      "    libraries = ['openblas64_', 'openblas64_']\n",
      "    library_dirs = ['/usr/local/lib']\n",
      "    language = c\n",
      "    define_macros = [('HAVE_CBLAS', None), ('BLAS_SYMBOL_SUFFIX', '64_'), ('HAVE_BLAS_ILP64', None), ('HAVE_LAPACKE', None)]\n",
      "    runtime_library_dirs = ['/usr/local/lib']\n",
      "lapack_ilp64_opt_info:\n",
      "    libraries = ['openblas64_', 'openblas64_']\n",
      "    library_dirs = ['/usr/local/lib']\n",
      "    language = c\n",
      "    define_macros = [('HAVE_CBLAS', None), ('BLAS_SYMBOL_SUFFIX', '64_'), ('HAVE_BLAS_ILP64', None), ('HAVE_LAPACKE', None)]\n",
      "    runtime_library_dirs = ['/usr/local/lib']\n",
      "Supported SIMD extensions in this NumPy install:\n",
      "    baseline = SSE,SSE2,SSE3\n",
      "    found = SSSE3,SSE41,POPCNT,SSE42,AVX,F16C,FMA3,AVX2,AVX512F,AVX512CD,AVX512_SKX,AVX512_CLX,AVX512_CNL,AVX512_ICL\n",
      "    not found = AVX512_KNL\n",
      "None\n"
     ]
    }
   ],
   "source": [
    "print(np.__version__)\n",
    "print(np.show_config())"
   ]
  },
  {
   "cell_type": "code",
   "execution_count": null,
   "id": "d759aaf9",
   "metadata": {},
   "outputs": [],
   "source": [
    "#3. Generate a 2x3x5 3-dimensional array with random values. Assign the array to variable \"a\"\n",
    "# Challenge: there are at least three easy ways that use numpy to generate random arrays. How many ways can you find?"
   ]
  },
  {
   "cell_type": "code",
   "execution_count": 13,
   "id": "42a279d7",
   "metadata": {},
   "outputs": [
    {
     "data": {
      "text/plain": [
       "array([[[0.29886649, 0.82880782, 0.88438422, 0.17378531, 0.58232105],\n",
       "        [0.34351445, 0.8559811 , 0.01912274, 0.88041306, 0.67135806],\n",
       "        [0.61322965, 0.47721399, 0.2369527 , 0.54584278, 0.05208137]],\n",
       "\n",
       "       [[0.77080318, 0.56122876, 0.15563336, 0.34477193, 0.36058081],\n",
       "        [0.24436303, 0.74318037, 0.42481426, 0.7763142 , 0.69119873],\n",
       "        [0.0965505 , 0.9903197 , 0.21099604, 0.47003681, 0.34597261]]])"
      ]
     },
     "execution_count": 13,
     "metadata": {},
     "output_type": "execute_result"
    }
   ],
   "source": [
    "a=np.random.rand(2,3,5)\n",
    "a"
   ]
  },
  {
   "cell_type": "code",
   "execution_count": 14,
   "id": "586640a3",
   "metadata": {},
   "outputs": [
    {
     "name": "stdout",
     "output_type": "stream",
     "text": [
      "[[[0.29886649 0.82880782 0.88438422 0.17378531 0.58232105]\n",
      "  [0.34351445 0.8559811  0.01912274 0.88041306 0.67135806]\n",
      "  [0.61322965 0.47721399 0.2369527  0.54584278 0.05208137]]\n",
      "\n",
      " [[0.77080318 0.56122876 0.15563336 0.34477193 0.36058081]\n",
      "  [0.24436303 0.74318037 0.42481426 0.7763142  0.69119873]\n",
      "  [0.0965505  0.9903197  0.21099604 0.47003681 0.34597261]]]\n"
     ]
    }
   ],
   "source": [
    "#4. Print a.\n",
    "print(a)"
   ]
  },
  {
   "cell_type": "code",
   "execution_count": 40,
   "id": "2445bfe8",
   "metadata": {},
   "outputs": [
    {
     "data": {
      "text/plain": [
       "array([[[1., 1., 1.],\n",
       "        [1., 1., 1.]],\n",
       "\n",
       "       [[1., 1., 1.],\n",
       "        [1., 1., 1.]],\n",
       "\n",
       "       [[1., 1., 1.],\n",
       "        [1., 1., 1.]],\n",
       "\n",
       "       [[1., 1., 1.],\n",
       "        [1., 1., 1.]],\n",
       "\n",
       "       [[1., 1., 1.],\n",
       "        [1., 1., 1.]]])"
      ]
     },
     "execution_count": 40,
     "metadata": {},
     "output_type": "execute_result"
    }
   ],
   "source": [
    "#5. Create a 5x2x3 3-dimensional array with all values equaling 1.\n",
    "#Assign the array to variable \"b\"\n",
    "b= np.ones((5,2,3))\n",
    "#6. Print b.\n",
    "b"
   ]
  },
  {
   "cell_type": "code",
   "execution_count": 41,
   "id": "37729f22",
   "metadata": {},
   "outputs": [
    {
     "name": "stderr",
     "output_type": "stream",
     "text": [
      "/var/folders/31/9bshvbnn2g16m9wz0gl028r00000gn/T/ipykernel_8470/2487780687.py:2: DeprecationWarning: elementwise comparison failed; this will raise an error in the future.\n",
      "  a==b\n"
     ]
    },
    {
     "data": {
      "text/plain": [
       "False"
      ]
     },
     "execution_count": 41,
     "metadata": {},
     "output_type": "execute_result"
    }
   ],
   "source": [
    "#7. Do a and b have the same size? How do you prove that in Python code?\n",
    "a==b"
   ]
  },
  {
   "cell_type": "code",
   "execution_count": 42,
   "id": "4bb8ea82",
   "metadata": {},
   "outputs": [],
   "source": [
    "#8. Are you able to add a and b? Why or why not?\n",
    "#No because they have different structures"
   ]
  },
  {
   "cell_type": "code",
   "execution_count": 43,
   "id": "08a22ced",
   "metadata": {},
   "outputs": [
    {
     "data": {
      "text/plain": [
       "array([[[1., 1., 1., 1., 1.],\n",
       "        [1., 1., 1., 1., 1.],\n",
       "        [1., 1., 1., 1., 1.]],\n",
       "\n",
       "       [[1., 1., 1., 1., 1.],\n",
       "        [1., 1., 1., 1., 1.],\n",
       "        [1., 1., 1., 1., 1.]]])"
      ]
     },
     "execution_count": 43,
     "metadata": {},
     "output_type": "execute_result"
    }
   ],
   "source": [
    "#9. Transpose b so that it has the same structure of a (i.e. become a 2x3x5 array). Assign the transposed array to varialbe \"c\".\n",
    "c= b.transpose(1,2,0)\n",
    "c"
   ]
  },
  {
   "cell_type": "code",
   "execution_count": null,
   "id": "172c2635",
   "metadata": {},
   "outputs": [],
   "source": []
  },
  {
   "cell_type": "code",
   "execution_count": 44,
   "id": "6c32b7c6",
   "metadata": {},
   "outputs": [
    {
     "data": {
      "text/plain": [
       "array([[[1.29886649, 1.82880782, 1.88438422, 1.17378531, 1.58232105],\n",
       "        [1.34351445, 1.8559811 , 1.01912274, 1.88041306, 1.67135806],\n",
       "        [1.61322965, 1.47721399, 1.2369527 , 1.54584278, 1.05208137]],\n",
       "\n",
       "       [[1.77080318, 1.56122876, 1.15563336, 1.34477193, 1.36058081],\n",
       "        [1.24436303, 1.74318037, 1.42481426, 1.7763142 , 1.69119873],\n",
       "        [1.0965505 , 1.9903197 , 1.21099604, 1.47003681, 1.34597261]]])"
      ]
     },
     "execution_count": 44,
     "metadata": {},
     "output_type": "execute_result"
    }
   ],
   "source": [
    "#10. Try to add a and c. Now it should work. Assign the sum to varialbe \"d\". But why does it work now?\n",
    "d= a+c\n",
    "d\n",
    "#because they have the same structure now"
   ]
  },
  {
   "cell_type": "code",
   "execution_count": 46,
   "id": "14786629",
   "metadata": {},
   "outputs": [
    {
     "name": "stdout",
     "output_type": "stream",
     "text": [
      "[[[0.29886649 0.82880782 0.88438422 0.17378531 0.58232105]\n",
      "  [0.34351445 0.8559811  0.01912274 0.88041306 0.67135806]\n",
      "  [0.61322965 0.47721399 0.2369527  0.54584278 0.05208137]]\n",
      "\n",
      " [[0.77080318 0.56122876 0.15563336 0.34477193 0.36058081]\n",
      "  [0.24436303 0.74318037 0.42481426 0.7763142  0.69119873]\n",
      "  [0.0965505  0.9903197  0.21099604 0.47003681 0.34597261]]]\n",
      "[[[1.29886649 1.82880782 1.88438422 1.17378531 1.58232105]\n",
      "  [1.34351445 1.8559811  1.01912274 1.88041306 1.67135806]\n",
      "  [1.61322965 1.47721399 1.2369527  1.54584278 1.05208137]]\n",
      "\n",
      " [[1.77080318 1.56122876 1.15563336 1.34477193 1.36058081]\n",
      "  [1.24436303 1.74318037 1.42481426 1.7763142  1.69119873]\n",
      "  [1.0965505  1.9903197  1.21099604 1.47003681 1.34597261]]]\n"
     ]
    }
   ],
   "source": [
    "#11. Print a and d. Notice the difference and relation of the two array in terms of the values? Explain.\n",
    "print(a)\n",
    "print(d)\n",
    "# d elements are a+1"
   ]
  },
  {
   "cell_type": "code",
   "execution_count": 49,
   "id": "fa99b13e",
   "metadata": {},
   "outputs": [
    {
     "name": "stdout",
     "output_type": "stream",
     "text": [
      "[[[0.29886649 0.82880782 0.88438422 0.17378531 0.58232105]\n",
      "  [0.34351445 0.8559811  0.01912274 0.88041306 0.67135806]\n",
      "  [0.61322965 0.47721399 0.2369527  0.54584278 0.05208137]]\n",
      "\n",
      " [[0.77080318 0.56122876 0.15563336 0.34477193 0.36058081]\n",
      "  [0.24436303 0.74318037 0.42481426 0.7763142  0.69119873]\n",
      "  [0.0965505  0.9903197  0.21099604 0.47003681 0.34597261]]]\n",
      "[[[0.29886649 0.82880782 0.88438422 0.17378531 0.58232105]\n",
      "  [0.34351445 0.8559811  0.01912274 0.88041306 0.67135806]\n",
      "  [0.61322965 0.47721399 0.2369527  0.54584278 0.05208137]]\n",
      "\n",
      " [[0.77080318 0.56122876 0.15563336 0.34477193 0.36058081]\n",
      "  [0.24436303 0.74318037 0.42481426 0.7763142  0.69119873]\n",
      "  [0.0965505  0.9903197  0.21099604 0.47003681 0.34597261]]]\n"
     ]
    }
   ],
   "source": [
    "#12. Multiply a and c. Assign the result to e.\n",
    "e=a*c\n",
    "e\n",
    "#13. Does e equal to a? Why or why not?\n",
    "print(e)\n",
    "print(a)\n",
    "#Yes, because c is an array of ones"
   ]
  },
  {
   "cell_type": "code",
   "execution_count": 60,
   "id": "2319a67a",
   "metadata": {},
   "outputs": [],
   "source": [
    "#14. Identify the max, min, and mean values in d. Assign those values to variables \"d_max\", \"d_min\", and \"d_mean\"\n",
    "d_max=np.max(d)\n",
    "d_min=np.min(d)\n",
    "d_mean=np.mean(d)"
   ]
  },
  {
   "cell_type": "code",
   "execution_count": 61,
   "id": "2143e953",
   "metadata": {},
   "outputs": [
    {
     "data": {
      "text/plain": [
       "array([[[0.29886649, 0.82880782, 0.88438422, 0.17378531, 0.58232105],\n",
       "        [0.34351445, 0.8559811 , 0.01912274, 0.88041306, 0.67135806],\n",
       "        [0.61322965, 0.47721399, 0.2369527 , 0.54584278, 0.05208137]],\n",
       "\n",
       "       [[0.77080318, 0.56122876, 0.15563336, 0.34477193, 0.36058081],\n",
       "        [0.24436303, 0.74318037, 0.42481426, 0.7763142 , 0.69119873],\n",
       "        [0.0965505 , 0.9903197 , 0.21099604, 0.47003681, 0.34597261]]])"
      ]
     },
     "execution_count": 61,
     "metadata": {},
     "output_type": "execute_result"
    }
   ],
   "source": [
    "#15. Now we want to label the values in d. First create an empty array \"f\" with the same shape (i.e. 2x3x5) as d using `np.empty`.\n",
    "f=np.empty([2,3,5])\n",
    "f"
   ]
  },
  {
   "cell_type": "code",
   "execution_count": 71,
   "id": "73eaceff",
   "metadata": {},
   "outputs": [
    {
     "data": {
      "text/plain": [
       "array([[[ 25,  75,  75,  25,  75],\n",
       "        [ 25,  75,   0,  75,  75],\n",
       "        [ 75,  25,  25,  75,  25]],\n",
       "\n",
       "       [[ 75,  75,  25,  25,  25],\n",
       "        [ 25,  75,  25,  75,  75],\n",
       "        [ 25, 100,  25,  25,  25]]])"
      ]
     },
     "execution_count": 71,
     "metadata": {},
     "output_type": "execute_result"
    }
   ],
   "source": [
    "#16. Populate the values in f. For each value in d, if it's larger than d_min but smaller than d_mean,\n",
    "#assign 25 to the corresponding value in f.\n",
    "#If a value in d is larger than d_mean but smaller than d_max, assign 75 to the corresponding value in f.\n",
    "#If a value equals to d_mean, assign 50 to the corresponding value in f.\n",
    "#Assign 0 to the corresponding value(s) in f for d_min in d.\n",
    "#Assign 100 to the corresponding value(s) in f for d_max in d.\n",
    "#In the end, f should have only the following values: 0, 25, 50, 75, and 100.\n",
    "\n",
    "f=np.array([25 if d_min < x <d_mean else 75 if d_mean < x < d_max else 50 if x==d_mean else 0 if x==d_min else 100 for z in d for y in z for x in y]).reshape(2,3,5)\n",
    "f    \n",
    "    "
   ]
  },
  {
   "cell_type": "code",
   "execution_count": 72,
   "id": "a18da320",
   "metadata": {},
   "outputs": [
    {
     "name": "stdout",
     "output_type": "stream",
     "text": [
      "[[[1.29886649 1.82880782 1.88438422 1.17378531 1.58232105]\n",
      "  [1.34351445 1.8559811  1.01912274 1.88041306 1.67135806]\n",
      "  [1.61322965 1.47721399 1.2369527  1.54584278 1.05208137]]\n",
      "\n",
      " [[1.77080318 1.56122876 1.15563336 1.34477193 1.36058081]\n",
      "  [1.24436303 1.74318037 1.42481426 1.7763142  1.69119873]\n",
      "  [1.0965505  1.9903197  1.21099604 1.47003681 1.34597261]]]\n",
      "[[[ 25  75  75  25  75]\n",
      "  [ 25  75   0  75  75]\n",
      "  [ 75  25  25  75  25]]\n",
      "\n",
      " [[ 75  75  25  25  25]\n",
      "  [ 25  75  25  75  75]\n",
      "  [ 25 100  25  25  25]]]\n"
     ]
    }
   ],
   "source": [
    "#17. Print d and f. Do you have your expected f?\n",
    "print(d)\n",
    "print(f)"
   ]
  },
  {
   "cell_type": "code",
   "execution_count": 78,
   "id": "a8ad13fc",
   "metadata": {},
   "outputs": [
    {
     "data": {
      "text/plain": [
       "array([[['B', 'D', 'D', 'B', 'D'],\n",
       "        ['B', 'D', 'A', 'D', 'D'],\n",
       "        ['D', 'B', 'B', 'D', 'B']],\n",
       "\n",
       "       [['D', 'D', 'B', 'B', 'B'],\n",
       "        ['B', 'D', 'B', 'D', 'D'],\n",
       "        ['B', 'E', 'B', 'B', 'B']]], dtype='<U1')"
      ]
     },
     "execution_count": 78,
     "metadata": {},
     "output_type": "execute_result"
    }
   ],
   "source": [
    "#18. Bonus question: instead of using numbers (i.e. 0, 25, 50, 75, and 100), how to use string values \n",
    "f_letters=np.array([\"B\" if d_min < x <d_mean else \"D\" if d_mean < x < d_max else \"C\" if x==d_mean else \"A\" if x==d_min else \"E\" for z in d for y in z for x in y]).reshape(2,3,5)\n",
    "f_letters    "
   ]
  },
  {
   "cell_type": "code",
   "execution_count": null,
   "id": "2bb9d894",
   "metadata": {},
   "outputs": [],
   "source": []
  }
 ],
 "metadata": {
  "kernelspec": {
   "display_name": "Python 3 (ipykernel)",
   "language": "python",
   "name": "python3"
  },
  "language_info": {
   "codemirror_mode": {
    "name": "ipython",
    "version": 3
   },
   "file_extension": ".py",
   "mimetype": "text/x-python",
   "name": "python",
   "nbconvert_exporter": "python",
   "pygments_lexer": "ipython3",
   "version": "3.8.13"
  }
 },
 "nbformat": 4,
 "nbformat_minor": 5
}
